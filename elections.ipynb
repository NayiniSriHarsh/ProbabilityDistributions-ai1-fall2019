{
  "nbformat": 4,
  "nbformat_minor": 0,
  "metadata": {
    "celltoolbar": "Edit Metadata",
    "kernelspec": {
      "display_name": "Python 3",
      "language": "python",
      "name": "python3"
    },
    "language_info": {
      "codemirror_mode": {
        "name": "ipython",
        "version": 3
      },
      "file_extension": ".py",
      "mimetype": "text/x-python",
      "name": "python",
      "nbconvert_exporter": "python",
      "pygments_lexer": "ipython3",
      "version": "3.6.8"
    },
    "colab": {
      "name": "elections.ipynb",
      "provenance": []
    }
  },
  "cells": [
    {
      "cell_type": "markdown",
      "metadata": {
        "id": "SDSg4lFrfy-T",
        "colab_type": "text"
      },
      "source": [
        "# Pandas, Statistics, And Elections"
      ]
    },
    {
      "cell_type": "code",
      "metadata": {
        "collapsed": true,
        "hide": true,
        "id": "AoAYuWSBfy-V",
        "colab_type": "code",
        "colab": {
          "base_uri": "https://localhost:8080/",
          "height": 179
        },
        "outputId": "32bf04b8-8798-4a56-b866-ddb5471afb6d"
      },
      "source": [
        "%matplotlib inline\n",
        "import numpy as np\n",
        "import scipy as sp\n",
        "import matplotlib as mpl\n",
        "import matplotlib.cm as cm\n",
        "import matplotlib.pyplot as plt\n",
        "import pandas as pd\n",
        "import seaborn.apionly as sns # conda install seaborn or pip install seaborn"
      ],
      "execution_count": 11,
      "outputs": [
        {
          "output_type": "stream",
          "text": [
            "/usr/local/lib/python3.6/dist-packages/matplotlib/__init__.py:855: MatplotlibDeprecationWarning: \n",
            "examples.directory is deprecated; in the future, examples will be found relative to the 'datapath' directory.\n",
            "  \"found relative to the 'datapath' directory.\".format(key))\n",
            "/usr/local/lib/python3.6/dist-packages/matplotlib/__init__.py:846: MatplotlibDeprecationWarning: \n",
            "The text.latex.unicode rcparam was deprecated in Matplotlib 2.2 and will be removed in 3.1.\n",
            "  \"2.2\", name=key, obj_type=\"rcparam\", addendum=addendum)\n",
            "/usr/local/lib/python3.6/dist-packages/seaborn/apionly.py:9: UserWarning: As seaborn no longer sets a default style on import, the seaborn.apionly module is deprecated. It will be removed in a future version.\n",
            "  warnings.warn(msg, UserWarning)\n"
          ],
          "name": "stderr"
        }
      ]
    },
    {
      "cell_type": "markdown",
      "metadata": {
        "id": "MDXm9ZkGfy-a",
        "colab_type": "text"
      },
      "source": [
        "### Random Variables\n",
        "\n",
        "A **random variable** is a mapping from a sample space to the set of real numbers. It assigns a real number to each outcome in the sample space.\n",
        "\n",
        "For example, consider the event of a coin toss that we have seen before. There are two outcomes in the sample space, a heads and a tails. We can ask the question, whats the probability of a heads or a tails? For an unbiased coin, these are, by symmetry, 1/2 each. The random variable here is the number of heads, and its probability is P(0)=1/2, and P(1)=1/2.\n",
        "\n",
        "Another random variable is the number of heads in two coin tosses. There, as we have seen before, P(0)=1/4, P(1)=1/2, P(2)=1/4.\n",
        "\n",
        "Random variables provide the link from events and sample spaces to data, and it is their **probability distribution** that we are interested in.\n",
        "\n",
        "A random variable is called **discrete** if it has a countable number of values. The technical definition of countable is that there is a 1-1 correspondence with the integers 1,2,3... . The number of heads in 2 coin tosses is a discrete random variable.\n",
        "\n",
        "#### Bernoulli Random Variables\n",
        "\n",
        "The **Bernoulli Distribution** represents the distribution for coin flips. Let the random variable X represent such a coin flip, where X=1 is heads, and X=0 is tails. Let us further say that the probability of heads is p (p=0.5 is a fair coin). \n",
        "\n",
        "We then say:\n",
        "\n",
        "$$X \\sim Bernoulli(p),$$\n",
        "\n",
        "which is to be read as **X has distribution Bernoulli(p)**. The **probability distribution function (pdf)** or **probability mass function** associated with the Bernoulli distribution is\n",
        "\n",
        "\\begin{eqnarray}\n",
        "P(X = 1) &=& p \\\\\n",
        "P(X = 0) &=& 1 - p \n",
        "\\end{eqnarray}\n",
        "\n",
        "for p in the range 0 to 1. \n",
        "The **pdf**, or the probability that random variable $X=x$ may thus be written as \n",
        "\n",
        "$$P(X=x) = p^x(1-p)^{1-x}$$\n",
        "\n",
        "for x in the set {0,1}.\n",
        "\n",
        "The **mean**, or **expected value** of this distribution can be calculated analogously to the mean value of data by noting that $X=1$ happens with frequency $p*N$ and thus it is p. \n",
        "\n",
        "Let us engage in some term defining right now, since we will use these terms throught the book. $X$ is a random variable, and when we say $X=x$ we are asking \"*what if the random variable X takes the value x*. \n",
        "\n",
        "$P(X=x)$ asks: what is the probability that the random variable X takes the value x. \n",
        "\n",
        "Finally $p$ is a parameter of the Bernoulli distribution, and as we have seen, one of the things we want to do in data analysis is: having seen some data, what can we infer to be the values of p, so that we can make future predictions for X."
      ]
    },
    {
      "cell_type": "code",
      "metadata": {
        "id": "MFo6mxRvhSVl",
        "colab_type": "code",
        "colab": {
          "base_uri": "https://localhost:8080/",
          "height": 35
        },
        "outputId": "ddf58c99-fef7-4aa2-dcc9-988d347f12cc"
      },
      "source": [
        "! git clone https://github.com/NayiniSriHarsh/ProbabilityDistributions-ai1-fall2019"
      ],
      "execution_count": 12,
      "outputs": [
        {
          "output_type": "stream",
          "text": [
            "fatal: destination path 'ProbabilityDistributions-ai1-fall2019' already exists and is not an empty directory.\n"
          ],
          "name": "stdout"
        }
      ]
    },
    {
      "cell_type": "code",
      "metadata": {
        "id": "MiheW7KFhjFo",
        "colab_type": "code",
        "colab": {
          "base_uri": "https://localhost:8080/",
          "height": 35
        },
        "outputId": "9d16053d-4a1b-46be-97d8-9c7ea6d75c02"
      },
      "source": [
        "! pwd"
      ],
      "execution_count": 13,
      "outputs": [
        {
          "output_type": "stream",
          "text": [
            "/content\n"
          ],
          "name": "stdout"
        }
      ]
    },
    {
      "cell_type": "code",
      "metadata": {
        "id": "ImPgUGgfhxh1",
        "colab_type": "code",
        "colab": {
          "base_uri": "https://localhost:8080/",
          "height": 35
        },
        "outputId": "1f84c5a0-06ad-4044-fc20-16bcd7c09b14"
      },
      "source": [
        "! ls"
      ],
      "execution_count": 14,
      "outputs": [
        {
          "output_type": "stream",
          "text": [
            "data  ProbabilityDistributions-ai1-fall2019  sample_data  statesplot.py\n"
          ],
          "name": "stdout"
        }
      ]
    },
    {
      "cell_type": "code",
      "metadata": {
        "id": "A4VSKhFXh7U1",
        "colab_type": "code",
        "colab": {
          "base_uri": "https://localhost:8080/",
          "height": 159
        },
        "outputId": "0d9763f2-868e-4984-9301-02fdf1f29fa3"
      },
      "source": [
        "! ls ProbabilityDistributions-ai1-fall2019  sample_data"
      ],
      "execution_count": 15,
      "outputs": [
        {
          "output_type": "stream",
          "text": [
            "ProbabilityDistributions-ai1-fall2019:\n",
            "binder\telections.ipynb  lecture.md   README.md\t\t   statesplot.py\n",
            "data\timages\t\t lecture.pdf  samplingcoins.ipynb\n",
            "\n",
            "sample_data:\n",
            "anscombe.json\t\t      mnist_test.csv\n",
            "california_housing_test.csv   mnist_train_small.csv\n",
            "california_housing_train.csv  README.md\n"
          ],
          "name": "stdout"
        }
      ]
    },
    {
      "cell_type": "code",
      "metadata": {
        "id": "43AV-zA4iGC-",
        "colab_type": "code",
        "colab": {}
      },
      "source": [
        "! cp -a ProbabilityDistributions-ai1-fall2019/data ."
      ],
      "execution_count": 0,
      "outputs": []
    },
    {
      "cell_type": "code",
      "metadata": {
        "id": "aBGwnFJ3iWbR",
        "colab_type": "code",
        "colab": {}
      },
      "source": [
        "! cp ProbabilityDistributions-ai1-fall2019/statesplot.py ."
      ],
      "execution_count": 0,
      "outputs": []
    },
    {
      "cell_type": "code",
      "metadata": {
        "id": "-LmT4zyTii8o",
        "colab_type": "code",
        "colab": {
          "base_uri": "https://localhost:8080/",
          "height": 35
        },
        "outputId": "cf165b0d-19ea-454e-8b68-5e56f2b4fa3e"
      },
      "source": [
        "! ls"
      ],
      "execution_count": 17,
      "outputs": [
        {
          "output_type": "stream",
          "text": [
            "data  ProbabilityDistributions-ai1-fall2019  sample_data  statesplot.py\n"
          ],
          "name": "stdout"
        }
      ]
    },
    {
      "cell_type": "code",
      "metadata": {
        "id": "dhGIoVz3jEG-",
        "colab_type": "code",
        "colab": {
          "base_uri": "https://localhost:8080/",
          "height": 35
        },
        "outputId": "02fde5c5-ee3d-4b99-927c-6d6667c78e6b"
      },
      "source": [
        "ls"
      ],
      "execution_count": 18,
      "outputs": [
        {
          "output_type": "stream",
          "text": [
            "\u001b[0m\u001b[01;34mdata\u001b[0m/  \u001b[01;34mProbabilityDistributions-ai1-fall2019\u001b[0m/  \u001b[01;34msample_data\u001b[0m/  statesplot.py\n"
          ],
          "name": "stdout"
        }
      ]
    },
    {
      "cell_type": "markdown",
      "metadata": {
        "id": "PrZfm0lnfy-a",
        "colab_type": "text"
      },
      "source": [
        "## Dataframes with Pandas\n",
        "\n",
        "For reference, here is a useful [pandas cheat sheet](https://drive.google.com/folderview?id=0ByIrJAE4KMTtaGhRcXkxNHhmY2M&usp=sharing).\n",
        "\n",
        "Often data is stored in comma separated values (CSV) files. CSV files can be output by any spreadsheet software, and are plain text, hence are a great way to share data.\n",
        "\n",
        "Here we are reading in a spreadsheet of the number of electoral votes in the American Electoral College."
      ]
    },
    {
      "cell_type": "code",
      "metadata": {
        "id": "xA9r-o6Lfy-b",
        "colab_type": "code",
        "colab": {
          "base_uri": "https://localhost:8080/",
          "height": 194
        },
        "outputId": "d466496d-4a41-49f3-e0cb-f0f36ba4c01a"
      },
      "source": [
        "electoral_votes = pd.read_csv(\"data/electoral_votes.csv\")\n",
        "electoral_votes.head()"
      ],
      "execution_count": 19,
      "outputs": [
        {
          "output_type": "execute_result",
          "data": {
            "text/html": [
              "<div>\n",
              "<style scoped>\n",
              "    .dataframe tbody tr th:only-of-type {\n",
              "        vertical-align: middle;\n",
              "    }\n",
              "\n",
              "    .dataframe tbody tr th {\n",
              "        vertical-align: top;\n",
              "    }\n",
              "\n",
              "    .dataframe thead th {\n",
              "        text-align: right;\n",
              "    }\n",
              "</style>\n",
              "<table border=\"1\" class=\"dataframe\">\n",
              "  <thead>\n",
              "    <tr style=\"text-align: right;\">\n",
              "      <th></th>\n",
              "      <th>State</th>\n",
              "      <th>Votes</th>\n",
              "    </tr>\n",
              "  </thead>\n",
              "  <tbody>\n",
              "    <tr>\n",
              "      <th>0</th>\n",
              "      <td>California</td>\n",
              "      <td>55</td>\n",
              "    </tr>\n",
              "    <tr>\n",
              "      <th>1</th>\n",
              "      <td>Texas</td>\n",
              "      <td>38</td>\n",
              "    </tr>\n",
              "    <tr>\n",
              "      <th>2</th>\n",
              "      <td>New York</td>\n",
              "      <td>29</td>\n",
              "    </tr>\n",
              "    <tr>\n",
              "      <th>3</th>\n",
              "      <td>Florida</td>\n",
              "      <td>29</td>\n",
              "    </tr>\n",
              "    <tr>\n",
              "      <th>4</th>\n",
              "      <td>Illinois</td>\n",
              "      <td>20</td>\n",
              "    </tr>\n",
              "  </tbody>\n",
              "</table>\n",
              "</div>"
            ],
            "text/plain": [
              "        State  Votes\n",
              "0  California     55\n",
              "1       Texas     38\n",
              "2    New York     29\n",
              "3     Florida     29\n",
              "4    Illinois     20"
            ]
          },
          "metadata": {
            "tags": []
          },
          "execution_count": 19
        }
      ]
    },
    {
      "cell_type": "markdown",
      "metadata": {
        "id": "z88cu9XGfy-e",
        "colab_type": "text"
      },
      "source": [
        "`electoral_votes` is a dataframe."
      ]
    },
    {
      "cell_type": "markdown",
      "metadata": {
        "id": "9reyff8lfy-f",
        "colab_type": "text"
      },
      "source": [
        "The actual file looks something like this:\n",
        "\n",
        "```\n",
        "State,Votes\n",
        "California,55\n",
        "Texas,38\n",
        "New York,29\n",
        "Florida,29\n",
        "Illinois,20\n",
        "Pennsylvania,20\n",
        "```\n",
        "You can see that an index has been added, and its numerical, and starts at 0 (like in the lists). This index is not particularly useful, so lets set the state column as the index."
      ]
    },
    {
      "cell_type": "code",
      "metadata": {
        "id": "HNQIermgfy-f",
        "colab_type": "code",
        "colab": {
          "base_uri": "https://localhost:8080/",
          "height": 223
        },
        "outputId": "f4433d80-4394-4dc2-92a7-60b805aab3af"
      },
      "source": [
        "electoral_votes = electoral_votes.set_index('State')\n",
        "electoral_votes.head()"
      ],
      "execution_count": 20,
      "outputs": [
        {
          "output_type": "execute_result",
          "data": {
            "text/html": [
              "<div>\n",
              "<style scoped>\n",
              "    .dataframe tbody tr th:only-of-type {\n",
              "        vertical-align: middle;\n",
              "    }\n",
              "\n",
              "    .dataframe tbody tr th {\n",
              "        vertical-align: top;\n",
              "    }\n",
              "\n",
              "    .dataframe thead th {\n",
              "        text-align: right;\n",
              "    }\n",
              "</style>\n",
              "<table border=\"1\" class=\"dataframe\">\n",
              "  <thead>\n",
              "    <tr style=\"text-align: right;\">\n",
              "      <th></th>\n",
              "      <th>Votes</th>\n",
              "    </tr>\n",
              "    <tr>\n",
              "      <th>State</th>\n",
              "      <th></th>\n",
              "    </tr>\n",
              "  </thead>\n",
              "  <tbody>\n",
              "    <tr>\n",
              "      <th>California</th>\n",
              "      <td>55</td>\n",
              "    </tr>\n",
              "    <tr>\n",
              "      <th>Texas</th>\n",
              "      <td>38</td>\n",
              "    </tr>\n",
              "    <tr>\n",
              "      <th>New York</th>\n",
              "      <td>29</td>\n",
              "    </tr>\n",
              "    <tr>\n",
              "      <th>Florida</th>\n",
              "      <td>29</td>\n",
              "    </tr>\n",
              "    <tr>\n",
              "      <th>Illinois</th>\n",
              "      <td>20</td>\n",
              "    </tr>\n",
              "  </tbody>\n",
              "</table>\n",
              "</div>"
            ],
            "text/plain": [
              "            Votes\n",
              "State            \n",
              "California     55\n",
              "Texas          38\n",
              "New York       29\n",
              "Florida        29\n",
              "Illinois       20"
            ]
          },
          "metadata": {
            "tags": []
          },
          "execution_count": 20
        }
      ]
    },
    {
      "cell_type": "markdown",
      "metadata": {
        "id": "VjMSyso9fy-i",
        "colab_type": "text"
      },
      "source": [
        "Notice how we used the `electoral_votes` variable twice in a line above. Pandas returns new objects in memory when we do something to a dataframe (here, setting the index). We relabel the new memory with the same label.\n",
        "\n",
        "What happens to the old memory? When nothing refers to it, Python \"garbage collects\" it."
      ]
    },
    {
      "cell_type": "markdown",
      "metadata": {
        "id": "BZU6A6lcfy-j",
        "colab_type": "text"
      },
      "source": [
        "#### The Predictwise distribution revisited\n",
        "\n",
        "Let is go to Predictiwise election predictions. There, on OCt 8 2012, we took a set of probabilities, one per state that Predictwise gave us on October 12th to make a prediction of the \"empirical\" distribution of votes that Obama would get, come election day.\n",
        "\n"
      ]
    },
    {
      "cell_type": "code",
      "metadata": {
        "id": "xtO6eUjJfy-j",
        "colab_type": "code",
        "colab": {
          "base_uri": "https://localhost:8080/",
          "height": 223
        },
        "outputId": "4caad7ac-f8c4-46e1-df12-a0e378ec7a7a"
      },
      "source": [
        "predictwise = pd.read_csv('data/predictwise.csv').set_index('States')\n",
        "predictwise.head()"
      ],
      "execution_count": 21,
      "outputs": [
        {
          "output_type": "execute_result",
          "data": {
            "text/html": [
              "<div>\n",
              "<style scoped>\n",
              "    .dataframe tbody tr th:only-of-type {\n",
              "        vertical-align: middle;\n",
              "    }\n",
              "\n",
              "    .dataframe tbody tr th {\n",
              "        vertical-align: top;\n",
              "    }\n",
              "\n",
              "    .dataframe thead th {\n",
              "        text-align: right;\n",
              "    }\n",
              "</style>\n",
              "<table border=\"1\" class=\"dataframe\">\n",
              "  <thead>\n",
              "    <tr style=\"text-align: right;\">\n",
              "      <th></th>\n",
              "      <th>Obama</th>\n",
              "      <th>Romney</th>\n",
              "      <th>Votes</th>\n",
              "    </tr>\n",
              "    <tr>\n",
              "      <th>States</th>\n",
              "      <th></th>\n",
              "      <th></th>\n",
              "      <th></th>\n",
              "    </tr>\n",
              "  </thead>\n",
              "  <tbody>\n",
              "    <tr>\n",
              "      <th>Alabama</th>\n",
              "      <td>0.000</td>\n",
              "      <td>1.000</td>\n",
              "      <td>9</td>\n",
              "    </tr>\n",
              "    <tr>\n",
              "      <th>Alaska</th>\n",
              "      <td>0.000</td>\n",
              "      <td>1.000</td>\n",
              "      <td>3</td>\n",
              "    </tr>\n",
              "    <tr>\n",
              "      <th>Arizona</th>\n",
              "      <td>0.062</td>\n",
              "      <td>0.938</td>\n",
              "      <td>11</td>\n",
              "    </tr>\n",
              "    <tr>\n",
              "      <th>Arkansas</th>\n",
              "      <td>0.000</td>\n",
              "      <td>1.000</td>\n",
              "      <td>6</td>\n",
              "    </tr>\n",
              "    <tr>\n",
              "      <th>California</th>\n",
              "      <td>1.000</td>\n",
              "      <td>0.000</td>\n",
              "      <td>55</td>\n",
              "    </tr>\n",
              "  </tbody>\n",
              "</table>\n",
              "</div>"
            ],
            "text/plain": [
              "            Obama  Romney  Votes\n",
              "States                          \n",
              "Alabama     0.000   1.000      9\n",
              "Alaska      0.000   1.000      3\n",
              "Arizona     0.062   0.938     11\n",
              "Arkansas    0.000   1.000      6\n",
              "California  1.000   0.000     55"
            ]
          },
          "metadata": {
            "tags": []
          },
          "execution_count": 21
        }
      ]
    },
    {
      "cell_type": "code",
      "metadata": {
        "id": "EFhYiVgWl9-G",
        "colab_type": "code",
        "colab": {
          "base_uri": "https://localhost:8080/",
          "height": 35
        },
        "outputId": "96618807-b2e9-4ac2-9cc4-c869dad36494"
      },
      "source": [
        "predictwise.shape"
      ],
      "execution_count": 22,
      "outputs": [
        {
          "output_type": "execute_result",
          "data": {
            "text/plain": [
              "(51, 3)"
            ]
          },
          "metadata": {
            "tags": []
          },
          "execution_count": 22
        }
      ]
    },
    {
      "cell_type": "code",
      "metadata": {
        "id": "G9ktDtzamNkC",
        "colab_type": "code",
        "colab": {
          "base_uri": "https://localhost:8080/",
          "height": 88
        },
        "outputId": "74af1bb8-cfb9-434f-dd54-6813b676121d"
      },
      "source": [
        "predictwise.dtypes"
      ],
      "execution_count": 24,
      "outputs": [
        {
          "output_type": "execute_result",
          "data": {
            "text/plain": [
              "Obama     float64\n",
              "Romney    float64\n",
              "Votes       int64\n",
              "dtype: object"
            ]
          },
          "metadata": {
            "tags": []
          },
          "execution_count": 24
        }
      ]
    },
    {
      "cell_type": "code",
      "metadata": {
        "id": "9kT6n1zlnCWf",
        "colab_type": "code",
        "colab": {
          "base_uri": "https://localhost:8080/",
          "height": 88
        },
        "outputId": "df6a9bc0-f012-43c1-d795-0dc675408755"
      },
      "source": [
        "predictwise.loc['California',:]"
      ],
      "execution_count": 25,
      "outputs": [
        {
          "output_type": "execute_result",
          "data": {
            "text/plain": [
              "Obama      1.0\n",
              "Romney     0.0\n",
              "Votes     55.0\n",
              "Name: California, dtype: float64"
            ]
          },
          "metadata": {
            "tags": []
          },
          "execution_count": 25
        }
      ]
    },
    {
      "cell_type": "code",
      "metadata": {
        "id": "GGpqX9eUn9mN",
        "colab_type": "code",
        "colab": {}
      },
      "source": [
        "alist=[1,2,3,4,5]"
      ],
      "execution_count": 0,
      "outputs": []
    },
    {
      "cell_type": "code",
      "metadata": {
        "id": "HVEYIKy_oPHt",
        "colab_type": "code",
        "colab": {
          "base_uri": "https://localhost:8080/",
          "height": 35
        },
        "outputId": "0e4858e9-b347-4db1-bb74-c4679b66a7f3"
      },
      "source": [
        "squaredlist=[ele*ele for ele in alist]\n",
        "squaredlist"
      ],
      "execution_count": 27,
      "outputs": [
        {
          "output_type": "execute_result",
          "data": {
            "text/plain": [
              "[1, 4, 9, 16, 25]"
            ]
          },
          "metadata": {
            "tags": []
          },
          "execution_count": 27
        }
      ]
    },
    {
      "cell_type": "code",
      "metadata": {
        "id": "-kzS9a_yo3uV",
        "colab_type": "code",
        "colab": {}
      },
      "source": [
        "anplist=np.array([1,2,3,4,5])\n",
        "anothernplist=np.array([1,3,5,7,9])"
      ],
      "execution_count": 0,
      "outputs": []
    },
    {
      "cell_type": "code",
      "metadata": {
        "id": "8F03WS6CpYzz",
        "colab_type": "code",
        "colab": {
          "base_uri": "https://localhost:8080/",
          "height": 35
        },
        "outputId": "c7668281-0291-48c9-c3d5-49027a3d49b5"
      },
      "source": [
        "np.dot(anplist,anothernplist)"
      ],
      "execution_count": 29,
      "outputs": [
        {
          "output_type": "execute_result",
          "data": {
            "text/plain": [
              "95"
            ]
          },
          "metadata": {
            "tags": []
          },
          "execution_count": 29
        }
      ]
    },
    {
      "cell_type": "code",
      "metadata": {
        "id": "Mtnev89LpjXe",
        "colab_type": "code",
        "colab": {
          "base_uri": "https://localhost:8080/",
          "height": 186
        },
        "outputId": "07668c08-ad9e-4d24-fbff-b4014e1c831a"
      },
      "source": [
        "bias=10\n",
        "sigmoid=lam"
      ],
      "execution_count": 30,
      "outputs": [
        {
          "output_type": "error",
          "ename": "NameError",
          "evalue": "ignored",
          "traceback": [
            "\u001b[0;31m---------------------------------------------------------------------------\u001b[0m",
            "\u001b[0;31mNameError\u001b[0m                                 Traceback (most recent call last)",
            "\u001b[0;32m<ipython-input-30-723a9c5dc278>\u001b[0m in \u001b[0;36m<module>\u001b[0;34m()\u001b[0m\n\u001b[1;32m      1\u001b[0m \u001b[0mbias\u001b[0m\u001b[0;34m=\u001b[0m\u001b[0;36m10\u001b[0m\u001b[0;34m\u001b[0m\u001b[0;34m\u001b[0m\u001b[0m\n\u001b[0;32m----> 2\u001b[0;31m \u001b[0msigmoid\u001b[0m\u001b[0;34m=\u001b[0m\u001b[0mlam\u001b[0m\u001b[0;34m\u001b[0m\u001b[0;34m\u001b[0m\u001b[0m\n\u001b[0m",
            "\u001b[0;31mNameError\u001b[0m: name 'lam' is not defined"
          ]
        }
      ]
    },
    {
      "cell_type": "code",
      "metadata": {
        "id": "FX5YaBzprERU",
        "colab_type": "code",
        "colab": {
          "base_uri": "https://localhost:8080/",
          "height": 52
        },
        "outputId": "ee29d634-f63d-4e68-d261-27446320e04f"
      },
      "source": [
        "twod=np.array([[1,2,3],[4,5,6]])\n",
        "twod"
      ],
      "execution_count": 32,
      "outputs": [
        {
          "output_type": "execute_result",
          "data": {
            "text/plain": [
              "array([[1, 2, 3],\n",
              "       [4, 5, 6]])"
            ]
          },
          "metadata": {
            "tags": []
          },
          "execution_count": 32
        }
      ]
    },
    {
      "cell_type": "code",
      "metadata": {
        "id": "l8xBga5esE9M",
        "colab_type": "code",
        "colab": {
          "base_uri": "https://localhost:8080/",
          "height": 35
        },
        "outputId": "57029a7a-0201-4174-a253-4c93c318e7ff"
      },
      "source": [
        "twod[0]"
      ],
      "execution_count": 33,
      "outputs": [
        {
          "output_type": "execute_result",
          "data": {
            "text/plain": [
              "array([1, 2, 3])"
            ]
          },
          "metadata": {
            "tags": []
          },
          "execution_count": 33
        }
      ]
    },
    {
      "cell_type": "code",
      "metadata": {
        "id": "MO1GcFHKsLZX",
        "colab_type": "code",
        "colab": {
          "base_uri": "https://localhost:8080/",
          "height": 132
        },
        "outputId": "409b7df9-9dbc-45d3-f789-5f5e3cd0b61a"
      },
      "source": [
        "twod(:,1:)"
      ],
      "execution_count": 34,
      "outputs": [
        {
          "output_type": "error",
          "ename": "SyntaxError",
          "evalue": "ignored",
          "traceback": [
            "\u001b[0;36m  File \u001b[0;32m\"<ipython-input-34-6dd114d0670c>\"\u001b[0;36m, line \u001b[0;32m1\u001b[0m\n\u001b[0;31m    twod(:,1:)\u001b[0m\n\u001b[0m         ^\u001b[0m\n\u001b[0;31mSyntaxError\u001b[0m\u001b[0;31m:\u001b[0m invalid syntax\n"
          ]
        }
      ]
    },
    {
      "cell_type": "markdown",
      "metadata": {
        "id": "OsRqdJxofy-m",
        "colab_type": "text"
      },
      "source": [
        "What we have now is a spreadsheet with indexed rows and named columns, called a dataframe in pandas.  \n",
        "\n",
        "`predictwise` is an instance of the pd.DataFrame class, created by calling the pd.read_csv \"constructor function\".\n",
        "\n",
        "`predictwise` is a dataframe object, and it has methods (functions) belonging to it. For example, `predictwise.head()` is a method that shows the first 5 rows of the dataframe.\n",
        "\n",
        "A pandas dataframe is a set of columns pasted together into a spreadsheet, as shown in the schematic below, which is taken from the cheatsheet above. The columns in pandas are called series objects.\n",
        "\n",
        "![](https://github.com/NayiniSriHarsh/ProbabilityDistributions-ai1-fall2019/blob/master/images/pandastruct.png?raw=1)"
      ]
    },
    {
      "cell_type": "code",
      "metadata": {
        "id": "PqP2NEi8sVso",
        "colab_type": "code",
        "colab": {
          "base_uri": "https://localhost:8080/",
          "height": 358
        },
        "outputId": "58276099-9c1e-4b56-a56a-21cb85de9c1c"
      },
      "source": [
        "plt.hist(np.random.uniform(size=1000))"
      ],
      "execution_count": 36,
      "outputs": [
        {
          "output_type": "execute_result",
          "data": {
            "text/plain": [
              "(array([ 90.,  97., 103.,  96.,  94., 100.,  99., 114., 102., 105.]),\n",
              " array([0.00427651, 0.10370537, 0.20313423, 0.30256309, 0.40199195,\n",
              "        0.50142081, 0.60084967, 0.70027853, 0.79970739, 0.89913625,\n",
              "        0.99856511]),\n",
              " <a list of 10 Patch objects>)"
            ]
          },
          "metadata": {
            "tags": []
          },
          "execution_count": 36
        },
        {
          "output_type": "display_data",
          "data": {
            "image/png": "[encoded data removed]",
            "text/plain": [
              "<Figure size 432x288 with 1 Axes>"
            ]
          },
          "metadata": {
            "tags": []
          }
        }
      ]
    },
    {
      "cell_type": "code",
      "metadata": {
        "id": "cCfE2Bd0uUiM",
        "colab_type": "code",
        "colab": {
          "base_uri": "https://localhost:8080/",
          "height": 1000
        },
        "outputId": "91125838-4733-4a6d-9d42-cf9f4e7b16c9"
      },
      "source": [
        "np.random.uniform(size=1000) < 0.6"
      ],
      "execution_count": 41,
      "outputs": [
        {
          "output_type": "execute_result",
          "data": {
            "text/plain": [
              "array([False,  True,  True, False, False,  True,  True, False, False,\n",
              "       False,  True,  True,  True,  True,  True,  True, False, False,\n",
              "        True,  True, False,  True,  True,  True,  True, False, False,\n",
              "       False,  True,  True, False, False, False,  True,  True,  True,\n",
              "        True, False,  True,  True, False,  True,  True, False,  True,\n",
              "       False, False, False,  True, False,  True, False, False,  True,\n",
              "       False,  True,  True,  True,  True, False,  True,  True,  True,\n",
              "        True, False,  True,  True,  True, False, False,  True,  True,\n",
              "        True,  True,  True,  True,  True,  True, False,  True,  True,\n",
              "       False,  True, False, False,  True,  True,  True,  True, False,\n",
              "        True,  True, False,  True,  True,  True,  True,  True, False,\n",
              "       False,  True, False,  True, False,  True, False, False,  True,\n",
              "        True, False, False,  True,  True, False,  True, False,  True,\n",
              "        True,  True,  True,  True,  True,  True,  True, False,  True,\n",
              "        True,  True, False, False, False, False,  True, False,  True,\n",
              "       False, False, False,  True,  True, False,  True,  True, False,\n",
              "        True,  True, False,  True,  True,  True, False, False,  True,\n",
              "       False, False,  True,  True,  True,  True,  True, False, False,\n",
              "        True, False,  True,  True, False,  True, False,  True,  True,\n",
              "        True,  True,  True,  True, False,  True,  True,  True,  True,\n",
              "        True, False,  True,  True,  True, False, False,  True, False,\n",
              "       False,  True, False,  True, False,  True,  True,  True,  True,\n",
              "        True,  True, False,  True, False,  True,  True,  True,  True,\n",
              "        True,  True,  True,  True,  True,  True,  True,  True, False,\n",
              "        True,  True,  True,  True,  True, False, False,  True,  True,\n",
              "       False, False,  True, False,  True, False,  True,  True,  True,\n",
              "        True, False,  True,  True,  True,  True, False,  True,  True,\n",
              "        True, False, False, False,  True, False,  True, False,  True,\n",
              "       False, False, False,  True, False, False,  True,  True, False,\n",
              "        True, False,  True, False, False,  True, False,  True,  True,\n",
              "        True, False, False,  True,  True,  True,  True,  True,  True,\n",
              "        True,  True,  True, False, False, False,  True,  True,  True,\n",
              "       False, False, False,  True, False,  True, False, False,  True,\n",
              "       False,  True,  True,  True, False,  True,  True,  True,  True,\n",
              "        True,  True,  True, False,  True, False,  True,  True,  True,\n",
              "        True,  True, False,  True, False,  True, False, False, False,\n",
              "        True,  True,  True, False,  True,  True,  True,  True, False,\n",
              "        True,  True,  True, False, False,  True,  True, False,  True,\n",
              "        True,  True, False,  True,  True,  True,  True, False,  True,\n",
              "        True,  True,  True,  True,  True,  True, False, False,  True,\n",
              "       False,  True,  True,  True,  True, False,  True, False,  True,\n",
              "        True, False,  True, False,  True, False,  True,  True,  True,\n",
              "       False, False,  True, False, False, False, False,  True,  True,\n",
              "       False,  True,  True, False, False,  True,  True,  True,  True,\n",
              "        True,  True,  True,  True,  True,  True,  True, False, False,\n",
              "       False, False, False,  True, False,  True,  True,  True, False,\n",
              "        True,  True,  True,  True, False,  True,  True,  True,  True,\n",
              "        True,  True,  True, False, False,  True,  True,  True, False,\n",
              "       False,  True,  True, False,  True,  True, False,  True, False,\n",
              "        True,  True,  True,  True,  True,  True,  True, False,  True,\n",
              "       False,  True,  True, False, False, False,  True,  True,  True,\n",
              "       False,  True,  True, False, False, False,  True,  True,  True,\n",
              "       False, False, False, False, False, False, False,  True,  True,\n",
              "       False,  True,  True,  True,  True,  True, False,  True, False,\n",
              "       False, False,  True,  True, False,  True, False,  True,  True,\n",
              "        True,  True,  True,  True, False, False,  True,  True,  True,\n",
              "        True,  True,  True, False,  True, False, False,  True, False,\n",
              "        True,  True,  True, False, False,  True, False,  True,  True,\n",
              "       False,  True, False,  True,  True, False,  True,  True, False,\n",
              "        True, False, False,  True,  True,  True, False,  True, False,\n",
              "        True, False,  True,  True,  True,  True, False,  True, False,\n",
              "        True, False, False,  True, False, False, False, False,  True,\n",
              "        True,  True,  True,  True, False,  True, False,  True,  True,\n",
              "       False, False,  True,  True,  True,  True,  True, False, False,\n",
              "       False,  True,  True,  True,  True,  True, False,  True, False,\n",
              "       False,  True, False, False,  True, False,  True,  True, False,\n",
              "       False,  True, False,  True, False,  True,  True, False, False,\n",
              "        True,  True, False, False,  True, False,  True,  True, False,\n",
              "       False,  True,  True,  True,  True,  True,  True,  True, False,\n",
              "       False, False,  True, False,  True,  True,  True,  True,  True,\n",
              "       False,  True,  True, False, False,  True,  True, False,  True,\n",
              "       False,  True,  True, False,  True, False, False,  True,  True,\n",
              "       False, False, False, False,  True, False,  True,  True, False,\n",
              "        True,  True, False,  True,  True,  True,  True,  True,  True,\n",
              "       False, False,  True,  True,  True, False,  True, False,  True,\n",
              "        True,  True, False,  True,  True, False,  True, False,  True,\n",
              "       False, False, False,  True, False,  True, False, False,  True,\n",
              "        True,  True,  True,  True,  True, False, False, False, False,\n",
              "       False,  True, False,  True,  True,  True,  True, False,  True,\n",
              "        True,  True,  True, False,  True, False, False,  True,  True,\n",
              "       False,  True,  True, False,  True,  True,  True, False,  True,\n",
              "        True, False,  True,  True, False,  True, False,  True,  True,\n",
              "       False,  True,  True, False,  True, False,  True,  True,  True,\n",
              "        True,  True,  True,  True,  True, False,  True, False,  True,\n",
              "       False,  True,  True,  True, False,  True, False, False, False,\n",
              "        True,  True,  True,  True,  True,  True,  True,  True, False,\n",
              "        True,  True, False,  True,  True,  True,  True,  True, False,\n",
              "       False,  True,  True, False,  True,  True,  True,  True,  True,\n",
              "        True,  True,  True,  True,  True,  True, False,  True,  True,\n",
              "       False, False,  True,  True,  True, False, False,  True, False,\n",
              "        True, False,  True,  True,  True,  True,  True,  True, False,\n",
              "        True,  True,  True,  True,  True,  True, False, False, False,\n",
              "       False,  True,  True,  True,  True, False,  True,  True, False,\n",
              "        True,  True, False,  True,  True, False,  True, False, False,\n",
              "        True, False, False,  True,  True,  True,  True,  True, False,\n",
              "        True,  True,  True,  True,  True,  True,  True, False,  True,\n",
              "       False,  True,  True,  True,  True,  True, False,  True,  True,\n",
              "       False, False, False,  True,  True, False,  True,  True, False,\n",
              "       False,  True,  True,  True,  True,  True,  True,  True,  True,\n",
              "        True,  True,  True,  True,  True,  True, False,  True,  True,\n",
              "        True, False, False, False,  True,  True, False, False,  True,\n",
              "       False, False, False, False, False,  True, False,  True,  True,\n",
              "        True,  True, False,  True, False,  True,  True, False,  True,\n",
              "       False,  True,  True,  True,  True,  True, False,  True,  True,\n",
              "       False, False,  True,  True, False,  True, False,  True,  True,\n",
              "        True,  True, False,  True,  True, False,  True,  True, False,\n",
              "       False,  True, False,  True, False, False,  True,  True, False,\n",
              "        True,  True,  True,  True,  True,  True, False,  True, False,\n",
              "       False,  True,  True,  True,  True, False, False,  True,  True,\n",
              "        True,  True, False, False,  True,  True,  True,  True, False,\n",
              "       False, False, False,  True,  True,  True,  True,  True,  True,\n",
              "        True])"
            ]
          },
          "metadata": {
            "tags": []
          },
          "execution_count": 41
        }
      ]
    },
    {
      "cell_type": "code",
      "metadata": {
        "id": "Z2ph_jO0urZv",
        "colab_type": "code",
        "colab": {
          "base_uri": "https://localhost:8080/",
          "height": 168
        },
        "outputId": "2bbc0ec5-c0fa-4615-b27d-28298f47beb5"
      },
      "source": [
        "np.sum(1*(np.ramdom.uniform(size=1000) < 0.6))"
      ],
      "execution_count": 40,
      "outputs": [
        {
          "output_type": "error",
          "ename": "AttributeError",
          "evalue": "ignored",
          "traceback": [
            "\u001b[0;31m---------------------------------------------------------------------------\u001b[0m",
            "\u001b[0;31mAttributeError\u001b[0m                            Traceback (most recent call last)",
            "\u001b[0;32m<ipython-input-40-bf39152a16fb>\u001b[0m in \u001b[0;36m<module>\u001b[0;34m()\u001b[0m\n\u001b[0;32m----> 1\u001b[0;31m \u001b[0mnp\u001b[0m\u001b[0;34m.\u001b[0m\u001b[0msum\u001b[0m\u001b[0;34m(\u001b[0m\u001b[0;36m1\u001b[0m\u001b[0;34m*\u001b[0m\u001b[0;34m(\u001b[0m\u001b[0mnp\u001b[0m\u001b[0;34m.\u001b[0m\u001b[0mramdom\u001b[0m\u001b[0;34m.\u001b[0m\u001b[0muniform\u001b[0m\u001b[0;34m(\u001b[0m\u001b[0msize\u001b[0m\u001b[0;34m=\u001b[0m\u001b[0;36m1000\u001b[0m\u001b[0;34m)\u001b[0m \u001b[0;34m<\u001b[0m \u001b[0;36m0.6\u001b[0m\u001b[0;34m)\u001b[0m\u001b[0;34m)\u001b[0m\u001b[0;34m\u001b[0m\u001b[0;34m\u001b[0m\u001b[0m\n\u001b[0m",
            "\u001b[0;31mAttributeError\u001b[0m: module 'numpy' has no attribute 'ramdom'"
          ]
        }
      ]
    },
    {
      "cell_type": "markdown",
      "metadata": {
        "id": "r2Z_6Yvofy-m",
        "colab_type": "text"
      },
      "source": [
        "## Simulate an election"
      ]
    },
    {
      "cell_type": "code",
      "metadata": {
        "id": "ZoBBCzChfy-n",
        "colab_type": "code",
        "colab": {
          "base_uri": "https://localhost:8080/",
          "height": 35
        },
        "outputId": "07f492b9-200d-4faa-b705-c2ff133b55e0"
      },
      "source": [
        "def simulate_election(model, n_sim):\n",
        "    simulations = np.random.uniform(size=(51, n_sim))\n",
        "    obama_votes = (simulations < model.Obama.values.reshape(-1, 1)) * model.Votes.values.reshape(-1, 1)\n",
        "    #summing over rows gives the total electoral votes for each simulation\n",
        "    return obama_votes.sum(axis=0)\n",
        "result = simulate_election(predictwise, 10000)\n",
        "np.sum(result >= 269) #run multiple times to see result change"
      ],
      "execution_count": 42,
      "outputs": [
        {
          "output_type": "execute_result",
          "data": {
            "text/plain": [
              "9948"
            ]
          },
          "metadata": {
            "tags": []
          },
          "execution_count": 42
        }
      ]
    },
    {
      "cell_type": "markdown",
      "metadata": {
        "id": "ms64uYpgfy-q",
        "colab_type": "text"
      },
      "source": [
        "Let us parse the intent of the above code a bit. We run 10,000 simulations. In each one of these simulations, we toss 51 different biased coins, and assign the vote to obama is the output of `np.random.uniform` is less than the probablity of an obama win. \n",
        "\n",
        "The first thing to pick up on here is that `np.random.uniform` gives you a random number between 0 and 1, uniformly. In other words, the number is equally likely to be between 0 and 0.1, 0.1 and 0.2, and so on. This is a very intuitive idea, but it is formalized by the notion of the **Uniform Distribution**.\n",
        "\n",
        "We then say:\n",
        "\n",
        "$$X \\sim Uniform([0,1),$$\n",
        "\n",
        "which is to be read as **X has distribution Uniform([0,1])**. The **probability distribution function (pdf)** associated with the Uniform distribution is\n",
        "\n",
        "\\begin{eqnarray}\n",
        "P(X = x) &=& 1 \\, for \\, x \\in [0,1] \\\\\n",
        "P(X = x) &=& 0 \\, for \\, x \\notin [0,1]\n",
        "\\end{eqnarray}\n",
        "\n",
        "We use this trick of sampling from a Uniform distribution ti sumulate multiple draws from each of the 51 bernoulli distribitions we have, one for each state.\n",
        "\n",
        "Now for any Obama probability less than 1.0, there are simulations in which Obama wont win that state, and this will induce fluctuations and a distribution on the total number of electoral college votes that Obama gets (when we sum over all states). And this is what we see in the histogram below. "
      ]
    },
    {
      "cell_type": "code",
      "metadata": {
        "figure_type": "m",
        "id": "sndl2Wcofy-q",
        "colab_type": "code",
        "colab": {
          "base_uri": "https://localhost:8080/",
          "height": 390
        },
        "outputId": "2a97250e-3b74-4020-ac16-9bfdee021c8d"
      },
      "source": [
        "def plot_simulation(simulation):    \n",
        "    plt.hist(simulation, bins=np.arange(200, 538, 1), \n",
        "             label='simulations', align='left', normed=True)\n",
        "    plt.axvline(332, 0, .5, color='r', label='Actual Outcome')\n",
        "    plt.axvline(269, 0, .5, color='k', label='Victory Threshold')\n",
        "    p05 = np.percentile(simulation, 5.)\n",
        "    p95 = np.percentile(simulation, 95.)\n",
        "    iq = int(p95 - p05)\n",
        "    pwin = ((simulation >= 269).mean() * 100)\n",
        "    plt.title(\"Chance of Obama Victory: %0.2f%%, Spread: %d votes\" % (pwin, iq))\n",
        "    plt.legend(frameon=False, loc='upper left')\n",
        "    plt.xlabel(\"Obama Electoral College Votes\")\n",
        "    plt.ylabel(\"Probability\")\n",
        "    sns.despine()\n",
        "with sns.plotting_context('poster'):\n",
        "    plot_simulation(result)"
      ],
      "execution_count": 43,
      "outputs": [
        {
          "output_type": "stream",
          "text": [
            "/usr/local/lib/python3.6/dist-packages/matplotlib/axes/_axes.py:6521: MatplotlibDeprecationWarning: \n",
            "The 'normed' kwarg was deprecated in Matplotlib 2.1 and will be removed in 3.1. Use 'density' instead.\n",
            "  alternative=\"'density'\", removal=\"3.1\")\n"
          ],
          "name": "stderr"
        },
        {
          "output_type": "display_data",
          "data": {
            "image/png": "[encoded data removed]",
            "text/plain": [
              "<Figure size 432x288 with 1 Axes>"
            ]
          },
          "metadata": {
            "tags": []
          }
        }
      ]
    },
    {
      "cell_type": "markdown",
      "metadata": {
        "id": "XqhL_fQ8fy-t",
        "colab_type": "text"
      },
      "source": [
        "This is an empirical **Probability Mass Function** or **Probability Density Function**. The concept of Mass Function is used when the outcomes come from a discrete set, rather than a continuous set. The word **density** is strictly used when the random variable X takes on continuous values, as in the uniform distribution, rather than discrete values such as here, but we'll abuse the language and use the word probability distribution in both cases.\n",
        "\n",
        "Lets summarize: the way the density arose here that we did ran 10,000 tosses (for each state), and depending on the value, assigned the state to Obama or Romney, and then summed up the electoral votes over the states.\n",
        "\n",
        "There is a second, very useful question, we can ask of any such probability density: what is the probability that a random variable is less than some value. In other words: $P(X < x)$. This is *also* a probability distribution and is called the **Cumulative Distribution Function**, or CDF (sometimes just called the **distribution**, as opposed to the **density**). Its obtained by \"summing\" the probability density function for all $X$ less than $x$."
      ]
    },
    {
      "cell_type": "code",
      "metadata": {
        "id": "eb1zEzTyfy-t",
        "colab_type": "code",
        "colab": {
          "base_uri": "https://localhost:8080/",
          "height": 141
        },
        "outputId": "f6e4a167-62e0-4664-f246-ffaa951ec97b"
      },
      "source": [
        "CDF = lambda x: np.float(np.sum(result < x))/result.shape[0]\n",
        "for votes in [200, 300, 320, 340, 360, 400, 500]:\n",
        "    print(\"Obama Win CDF at votes=\", votes, \" is \", CDF(votes))"
      ],
      "execution_count": 44,
      "outputs": [
        {
          "output_type": "stream",
          "text": [
            "Obama Win CDF at votes= 200  is  0.0\n",
            "Obama Win CDF at votes= 300  is  0.1554\n",
            "Obama Win CDF at votes= 320  is  0.4568\n",
            "Obama Win CDF at votes= 340  is  0.8395\n",
            "Obama Win CDF at votes= 360  is  0.9978\n",
            "Obama Win CDF at votes= 400  is  1.0\n",
            "Obama Win CDF at votes= 500  is  1.0\n"
          ],
          "name": "stdout"
        }
      ]
    },
    {
      "cell_type": "code",
      "metadata": {
        "figure_type": "m",
        "id": "noVT9h_Sfy-w",
        "colab_type": "code",
        "colab": {
          "base_uri": "https://localhost:8080/",
          "height": 300
        },
        "outputId": "ddb90a01-eb0f-4e12-db8d-2243aea40362"
      },
      "source": [
        "votelist=np.arange(0, 540, 5)\n",
        "plt.plot(votelist, [CDF(v) for v in votelist], '.-');\n",
        "plt.xlim([200,400])\n",
        "plt.xlabel(\"votes for Obama\")\n",
        "plt.ylabel(\"probability of Obama win\")"
      ],
      "execution_count": 45,
      "outputs": [
        {
          "output_type": "execute_result",
          "data": {
            "text/plain": [
              "Text(0, 0.5, 'probability of Obama win')"
            ]
          },
          "metadata": {
            "tags": []
          },
          "execution_count": 45
        },
        {
          "output_type": "display_data",
          "data": {
            "image/png": "[encoded data removed]",
            "text/plain": [
              "<Figure size 432x288 with 1 Axes>"
            ]
          },
          "metadata": {
            "tags": []
          }
        }
      ]
    },
    {
      "cell_type": "markdown",
      "metadata": {
        "id": "v97e0B9pfy-y",
        "colab_type": "text"
      },
      "source": [
        "### The Gaussian Distribution\n",
        "\n",
        "The sampling distribution of the mean itself has a mean $\\mu$ and variance $s^2 = \\frac{\\sigma^2}{N}$. This distribution is called the **Gaussian** or **Normal Distribution**, and is probably the most important distribution in all of statistics.\n",
        "\n",
        "The probability density of the normal distribution is given as:\n",
        "\n",
        "$$ N(x, \\mu, \\sigma) = \\frac{1}{s\\sqrt{2\\pi}} e^{ -\\frac{(x-\\mu)^2}{2s^2} } .$$\n",
        "\n",
        "$s$ is called the **standard error**."
      ]
    },
    {
      "cell_type": "markdown",
      "metadata": {
        "id": "lOim2clNfy-z",
        "colab_type": "text"
      },
      "source": [
        "Lets step back and try and think about what this all means. As an example, say I have a weight-watchers' study of 1000 people, whose average weight is 150 lbs with standard deviation of 30lbs. If I was to randomly choose many samples of 100 people each, the mean weights of those samples would cluster around 150lbs with a standard error of 30/$\\sqrt{100}$ = 3lbs. Now if i gave you a different sample of 100 people with an average weight of 170lbs, this weight would be more than 6 standard errors beyond the population mean, ^[this example is motivated by the crazy bus example in Charles Whelan's excellent Naked Statistics Book] and would thus be very unlikely to be from the weight watchers group."
      ]
    },
    {
      "cell_type": "markdown",
      "metadata": {
        "id": "XEAHigqhfy-z",
        "colab_type": "text"
      },
      "source": [
        "The expected value of the Gaussian distribution is $E[X]=\\mu$ and the variance is $Var[X]=s^2$."
      ]
    },
    {
      "cell_type": "code",
      "metadata": {
        "id": "chZlEAiRfy-0",
        "colab_type": "code",
        "colab": {
          "base_uri": "https://localhost:8080/",
          "height": 410
        },
        "outputId": "e916273a-f092-40d6-a189-35153c5957a2"
      },
      "source": [
        "norm =  sp.stats.norm\n",
        "x = np.linspace(-5,5, num=200)\n",
        "colors=sns.color_palette()\n",
        "\n",
        "fig = plt.figure(figsize=(12,6))\n",
        "for mu, s, c in zip([0.5]*3, [0.2, 0.5, 0.8], colors):\n",
        "    plt.plot(x, norm.pdf(x, mu, s), lw=2, \n",
        "             c=c, label = r\"$\\mu = {0:.1f}, s={1:.1f}$\".format(mu, s))\n",
        "    plt.fill_between(x, norm.pdf(x, mu, s), color=c, alpha = .4)\n",
        "    \n",
        "    \n",
        "plt.xlim([-5,5])\n",
        "plt.legend(loc=0)\n",
        "plt.ylabel(\"PDF at $x$\")\n",
        "plt.xlabel(\"$x$\")"
      ],
      "execution_count": 46,
      "outputs": [
        {
          "output_type": "execute_result",
          "data": {
            "text/plain": [
              "Text(0.5, 0, '$x$')"
            ]
          },
          "metadata": {
            "tags": []
          },
          "execution_count": 46
        },
        {
          "output_type": "display_data",
          "data": {
            "image/png": "[encoded data removed]",
            "text/plain": [
              "<Figure size 864x432 with 1 Axes>"
            ]
          },
          "metadata": {
            "tags": []
          }
        }
      ]
    },
    {
      "cell_type": "markdown",
      "metadata": {
        "id": "2NAbTbDhfy-3",
        "colab_type": "text"
      },
      "source": [
        "### The Central Limit Theorem\n",
        "\n",
        "The reason for the distribution's importance is the Central Limit Theorem(CLT). The theorem is stated as thus, very similar to the law of large numbers:\n",
        "\n",
        "**Let $x_1,x_2,...,x_n$ be a sequence of independent, identically-distributed (IID) random variables from a random variable $X$. Suppose that $X$ has the finite mean $\\mu$ AND finite variance $\\sigma^2$. Then the average of the first n of them:**\n",
        "\n",
        "$$S_n = \\frac{1}{n} \\sum_{i=1}^{n} x_i ,$$\n",
        "\n",
        "**converges to a Gaussian Random Variable with mean $\\mu$ and variance $\\sigma^2/n$ as $n \\to \\infty$:**\n",
        "\n",
        "$$ S_n \\sim N(\\mu,\\frac{\\sigma^2}{n}) \\, as \\, n \\to \\infty. $$\n",
        "\n",
        "In other words:\n",
        "\n",
        "$$s^2 = \\frac{\\sigma^2}{N}.$$\n",
        "\n",
        "\n",
        "This is true, *regardless* of the shape of $X$, which could be binomial, poisson, or any other distribution."
      ]
    },
    {
      "cell_type": "markdown",
      "metadata": {
        "id": "NH2vN5qUfy-3",
        "colab_type": "text"
      },
      "source": [
        "Strictly speaking, under some conditions ^[REF :Lyapunov conditions], the variables $x_i$ dont have to be identically distributed, as long as $\\mu$ is the mean of the means and $\\sigma^2$ is the sum of the individual variances. This has major consequences, for the importance of this theorem.\n",
        "\n",
        "Many random variables can be thought of as having come from the sum of a large number of small and independent effects. For example human height or weight can be thought of as the sum as a large number of genetic and environmental factors, which add to increase or decrease height or weight respectively. Or think of a measurement of a height. There are lots of ways things could go wrong: frayed tapes, stretched tapes, smudged marks, bad lining up of the eye, etc. These are all independent and have no systematic error in one direction or the other.\n",
        "\n",
        "Then the sum of these factors, as long as there are a large number of them, will be distributed as a gaussian.\n",
        "\n",
        "As a rule of thumb, the CLT starts holding at $N \\sim 30$."
      ]
    },
    {
      "cell_type": "markdown",
      "metadata": {
        "id": "qBBqeSe-fy-4",
        "colab_type": "text"
      },
      "source": [
        "\n",
        "#### An application to elections: Binomial distribution in the large n, large k limit\n",
        "\n",
        "For example, consider the binomial distribution Binomial(n,k, p) in the limit of large n. The number of successes k in n trials can be ragarded as the sum of n IID Bernoulli variables with values 1 or 0. Obviously this is applicable to a large sequence of coin tosses, or to the binomial sampling issue that we encountered earlier in the case of the polling. \n",
        "\n",
        "Using the CLT we can replace the binomial distribution at large n by a gaussian where k is now a continuous variable, and whose mean is the mean of the binomial $np$ and whose variance is $np(1-p)$, since\n",
        "\n",
        "$$S_n \\sim N(p, \\frac{p(1-p)}{n}).$$\n",
        "\n",
        "The accuracy of this approximation depends on the variance. A large variance makes for a broad distribution spanning many discrete k, thus justifying the transition from a discrete to a continuous distribution.\n",
        "\n",
        "This approximation is used a lot in studying elections. For example, suppose I told you that I'd polled 1000 people in Ohio and found that 600 would vote Democratic, and 400 republican. Imagine that this 1000 is a \"sample\" drawn from the voting \"population\" of Ohio. Assume then that these are 1000 independent bernoulli trials with p=600/1000 = 0.6. Then we can say that, from the CLT, the mean of the sampling distribution of the mean of the bernoulli or equivalently the binomial is 0.6, with a variance of $0.6*0.4/1000 = 0.00024$. Thus the standard deviation is 0.015 for a mean of 0.6, or 1.5% on a mean of 60% voting Democratic.  This 1.5% if part of what pollsters quote as the margin of error of a candidates winning; they often include other factors such as errors in polling methodology.\n",
        "\n",
        "If one has results from multiple pollsters, one can treat them as independent samples from the voting population. Then the average from these samples will approach the average in the population, with the sample means distributed normally around it."
      ]
    },
    {
      "cell_type": "markdown",
      "metadata": {
        "id": "LhnqSIltfy-5",
        "colab_type": "text"
      },
      "source": [
        "#### What does this all mean?\n",
        "\n",
        "The sample mean, or mean of the random variables $x_{mi}$ in the sample $m$, has a sampling distribution with mean $\\mu$ and variance $\\frac{\\sigma^2}{N}$, as shown before. Now for large sample sizes we can go further and use the CLT theorem to say that this distribution is the normal distribution,\n",
        "\n",
        "$$S_N \\sim N(\\mu, \\frac{\\sigma^2}{N})$$.\n",
        "\n",
        "The preciseness of saying that we have a gaussian is a huge gain in our expository power. For example, for the case of the weight-watchers program above, a separation of 20lbs is more than 3 standard errors away, which corresponds to being way in the tail of a gaussian distribution. Because we can now quantify the area under the curve, we can say that 99.7\\% of the sample means lie within 9lbs of 150. Thus you can way easily reject the possibility that the new sample is from the weight-watchers program with 99.7\\% confidence. \n",
        "\n",
        "Indeed, the CLT allows us to take the reduction in variance we get from large samples, and make statements in different cases that are quite strong:\n",
        "\n",
        "1. if we know a lot about the population, and randomly sampled 100 points from it, the sample mean would be with 99.7\\% confidence within $0.3\\sigma$ of the population mean. And thus, if $\\sigma$ is small, the sample mean is quite representative of the population mean.\n",
        "2. The reverse: if we have a well sampled 100 data points, we could make strong statements about the population as a whole. This is indeed how election polling and other sampling works. \n",
        "3. we can infer, as we just did, if a sample is consistent with a population\n",
        "4. by the same token, you can compare two samples and infer if they are from the same population."
      ]
    },
    {
      "cell_type": "markdown",
      "metadata": {
        "id": "EPcL3yy5fy-5",
        "colab_type": "text"
      },
      "source": [
        "### An application: Gallup Party Affiliation Poll\n",
        "\n",
        "Earlier we had used the Predictwise probabilities from Octover 12th to create a predictive model for the elections. This time, armed with what we have learnt in this chapter, we will try to **estimate** our own win probabilities to plug into our predictive model.\n",
        "\n",
        "We will start with a simple forecast model. We will try to predict the outcome of the election based the estimated proportion of people in each state who identify with one one political party or the other.\n",
        "\n",
        "Gallup measures the political leaning of each state, based on asking random people which party they identify or affiliate with. [Here's the data](http://www.gallup.com/poll/156437/heavily-democratic-states-concentrated-east.aspx#2) they collected from January-June of 2012:"
      ]
    },
    {
      "cell_type": "code",
      "metadata": {
        "id": "bLFhiq_cfy-6",
        "colab_type": "code",
        "colab": {
          "base_uri": "https://localhost:8080/",
          "height": 223
        },
        "outputId": "9dbc23c5-23cf-4d87-afec-c3126b6dafb5"
      },
      "source": [
        "gallup_2012=pd.read_csv(\"data/g12.csv\").set_index('State')\n",
        "gallup_2012[\"Unknown\"] = 100 - gallup_2012.Democrat - gallup_2012.Republican\n",
        "gallup_2012.head()"
      ],
      "execution_count": 47,
      "outputs": [
        {
          "output_type": "execute_result",
          "data": {
            "text/html": [
              "<div>\n",
              "<style scoped>\n",
              "    .dataframe tbody tr th:only-of-type {\n",
              "        vertical-align: middle;\n",
              "    }\n",
              "\n",
              "    .dataframe tbody tr th {\n",
              "        vertical-align: top;\n",
              "    }\n",
              "\n",
              "    .dataframe thead th {\n",
              "        text-align: right;\n",
              "    }\n",
              "</style>\n",
              "<table border=\"1\" class=\"dataframe\">\n",
              "  <thead>\n",
              "    <tr style=\"text-align: right;\">\n",
              "      <th></th>\n",
              "      <th>Democrat</th>\n",
              "      <th>Republican</th>\n",
              "      <th>Dem_Adv</th>\n",
              "      <th>N</th>\n",
              "      <th>Unknown</th>\n",
              "    </tr>\n",
              "    <tr>\n",
              "      <th>State</th>\n",
              "      <th></th>\n",
              "      <th></th>\n",
              "      <th></th>\n",
              "      <th></th>\n",
              "      <th></th>\n",
              "    </tr>\n",
              "  </thead>\n",
              "  <tbody>\n",
              "    <tr>\n",
              "      <th>Alabama</th>\n",
              "      <td>36.0</td>\n",
              "      <td>49.6</td>\n",
              "      <td>-13.6</td>\n",
              "      <td>3197</td>\n",
              "      <td>14.4</td>\n",
              "    </tr>\n",
              "    <tr>\n",
              "      <th>Alaska</th>\n",
              "      <td>35.9</td>\n",
              "      <td>44.3</td>\n",
              "      <td>-8.4</td>\n",
              "      <td>402</td>\n",
              "      <td>19.8</td>\n",
              "    </tr>\n",
              "    <tr>\n",
              "      <th>Arizona</th>\n",
              "      <td>39.8</td>\n",
              "      <td>47.3</td>\n",
              "      <td>-7.5</td>\n",
              "      <td>4325</td>\n",
              "      <td>12.9</td>\n",
              "    </tr>\n",
              "    <tr>\n",
              "      <th>Arkansas</th>\n",
              "      <td>41.5</td>\n",
              "      <td>40.8</td>\n",
              "      <td>0.7</td>\n",
              "      <td>2071</td>\n",
              "      <td>17.7</td>\n",
              "    </tr>\n",
              "    <tr>\n",
              "      <th>California</th>\n",
              "      <td>48.3</td>\n",
              "      <td>34.6</td>\n",
              "      <td>13.7</td>\n",
              "      <td>16197</td>\n",
              "      <td>17.1</td>\n",
              "    </tr>\n",
              "  </tbody>\n",
              "</table>\n",
              "</div>"
            ],
            "text/plain": [
              "            Democrat  Republican  Dem_Adv      N  Unknown\n",
              "State                                                    \n",
              "Alabama         36.0        49.6    -13.6   3197     14.4\n",
              "Alaska          35.9        44.3     -8.4    402     19.8\n",
              "Arizona         39.8        47.3     -7.5   4325     12.9\n",
              "Arkansas        41.5        40.8      0.7   2071     17.7\n",
              "California      48.3        34.6     13.7  16197     17.1"
            ]
          },
          "metadata": {
            "tags": []
          },
          "execution_count": 47
        }
      ]
    },
    {
      "cell_type": "markdown",
      "metadata": {
        "id": "o7SdPAskfy-8",
        "colab_type": "text"
      },
      "source": [
        "Each row lists a state, the percent of surveyed individuals who identify as Democrat/Republican, the percent whose identification is unknown or who haven't made an affiliation yet, the margin between Democrats and Republicans (`Dem_Adv`: the percentage identifying as Democrats minus the percentage identifying as Republicans), and the number `N` of people surveyed."
      ]
    },
    {
      "cell_type": "markdown",
      "metadata": {
        "id": "folBR72Ufy-9",
        "colab_type": "text"
      },
      "source": [
        "We can construct sub-dataframes by using an array-like indexing syntax"
      ]
    },
    {
      "cell_type": "code",
      "metadata": {
        "id": "KCPqXyA3fy--",
        "colab_type": "code",
        "colab": {
          "base_uri": "https://localhost:8080/",
          "height": 223
        },
        "outputId": "4b262391-5191-48e0-8ce4-9b47074aa00d"
      },
      "source": [
        "gallup_2012[['Dem_Adv', 'Unknown']].head()"
      ],
      "execution_count": 48,
      "outputs": [
        {
          "output_type": "execute_result",
          "data": {
            "text/html": [
              "<div>\n",
              "<style scoped>\n",
              "    .dataframe tbody tr th:only-of-type {\n",
              "        vertical-align: middle;\n",
              "    }\n",
              "\n",
              "    .dataframe tbody tr th {\n",
              "        vertical-align: top;\n",
              "    }\n",
              "\n",
              "    .dataframe thead th {\n",
              "        text-align: right;\n",
              "    }\n",
              "</style>\n",
              "<table border=\"1\" class=\"dataframe\">\n",
              "  <thead>\n",
              "    <tr style=\"text-align: right;\">\n",
              "      <th></th>\n",
              "      <th>Dem_Adv</th>\n",
              "      <th>Unknown</th>\n",
              "    </tr>\n",
              "    <tr>\n",
              "      <th>State</th>\n",
              "      <th></th>\n",
              "      <th></th>\n",
              "    </tr>\n",
              "  </thead>\n",
              "  <tbody>\n",
              "    <tr>\n",
              "      <th>Alabama</th>\n",
              "      <td>-13.6</td>\n",
              "      <td>14.4</td>\n",
              "    </tr>\n",
              "    <tr>\n",
              "      <th>Alaska</th>\n",
              "      <td>-8.4</td>\n",
              "      <td>19.8</td>\n",
              "    </tr>\n",
              "    <tr>\n",
              "      <th>Arizona</th>\n",
              "      <td>-7.5</td>\n",
              "      <td>12.9</td>\n",
              "    </tr>\n",
              "    <tr>\n",
              "      <th>Arkansas</th>\n",
              "      <td>0.7</td>\n",
              "      <td>17.7</td>\n",
              "    </tr>\n",
              "    <tr>\n",
              "      <th>California</th>\n",
              "      <td>13.7</td>\n",
              "      <td>17.1</td>\n",
              "    </tr>\n",
              "  </tbody>\n",
              "</table>\n",
              "</div>"
            ],
            "text/plain": [
              "            Dem_Adv  Unknown\n",
              "State                       \n",
              "Alabama       -13.6     14.4\n",
              "Alaska         -8.4     19.8\n",
              "Arizona        -7.5     12.9\n",
              "Arkansas        0.7     17.7\n",
              "California     13.7     17.1"
            ]
          },
          "metadata": {
            "tags": []
          },
          "execution_count": 48
        }
      ]
    },
    {
      "cell_type": "markdown",
      "metadata": {
        "id": "kvKqMWdNfy_A",
        "colab_type": "text"
      },
      "source": [
        "The most obvious source of error in the Gallup data is the finite sample size -- Gallup did not poll *everybody* in America, and thus the party affilitions are subject to sampling errors. How much uncertainty does this introduce? Lets estimate the sampling error using what we learnt in the last section"
      ]
    },
    {
      "cell_type": "code",
      "metadata": {
        "id": "EpXi_3ENfy_B",
        "colab_type": "code",
        "colab": {
          "base_uri": "https://localhost:8080/",
          "height": 223
        },
        "outputId": "1fb87b51-e106-4e87-b62b-b346b3fe8667"
      },
      "source": [
        "gallup_2012[\"SE_percentage\"]=100.0*np.sqrt((gallup_2012.Democrat/100.)*((100. - gallup_2012.Democrat)/100.)/(gallup_2012.N))\n",
        "gallup_2012.head()"
      ],
      "execution_count": 49,
      "outputs": [
        {
          "output_type": "execute_result",
          "data": {
            "text/html": [
              "<div>\n",
              "<style scoped>\n",
              "    .dataframe tbody tr th:only-of-type {\n",
              "        vertical-align: middle;\n",
              "    }\n",
              "\n",
              "    .dataframe tbody tr th {\n",
              "        vertical-align: top;\n",
              "    }\n",
              "\n",
              "    .dataframe thead th {\n",
              "        text-align: right;\n",
              "    }\n",
              "</style>\n",
              "<table border=\"1\" class=\"dataframe\">\n",
              "  <thead>\n",
              "    <tr style=\"text-align: right;\">\n",
              "      <th></th>\n",
              "      <th>Democrat</th>\n",
              "      <th>Republican</th>\n",
              "      <th>Dem_Adv</th>\n",
              "      <th>N</th>\n",
              "      <th>Unknown</th>\n",
              "      <th>SE_percentage</th>\n",
              "    </tr>\n",
              "    <tr>\n",
              "      <th>State</th>\n",
              "      <th></th>\n",
              "      <th></th>\n",
              "      <th></th>\n",
              "      <th></th>\n",
              "      <th></th>\n",
              "      <th></th>\n",
              "    </tr>\n",
              "  </thead>\n",
              "  <tbody>\n",
              "    <tr>\n",
              "      <th>Alabama</th>\n",
              "      <td>36.0</td>\n",
              "      <td>49.6</td>\n",
              "      <td>-13.6</td>\n",
              "      <td>3197</td>\n",
              "      <td>14.4</td>\n",
              "      <td>0.848926</td>\n",
              "    </tr>\n",
              "    <tr>\n",
              "      <th>Alaska</th>\n",
              "      <td>35.9</td>\n",
              "      <td>44.3</td>\n",
              "      <td>-8.4</td>\n",
              "      <td>402</td>\n",
              "      <td>19.8</td>\n",
              "      <td>2.392562</td>\n",
              "    </tr>\n",
              "    <tr>\n",
              "      <th>Arizona</th>\n",
              "      <td>39.8</td>\n",
              "      <td>47.3</td>\n",
              "      <td>-7.5</td>\n",
              "      <td>4325</td>\n",
              "      <td>12.9</td>\n",
              "      <td>0.744298</td>\n",
              "    </tr>\n",
              "    <tr>\n",
              "      <th>Arkansas</th>\n",
              "      <td>41.5</td>\n",
              "      <td>40.8</td>\n",
              "      <td>0.7</td>\n",
              "      <td>2071</td>\n",
              "      <td>17.7</td>\n",
              "      <td>1.082709</td>\n",
              "    </tr>\n",
              "    <tr>\n",
              "      <th>California</th>\n",
              "      <td>48.3</td>\n",
              "      <td>34.6</td>\n",
              "      <td>13.7</td>\n",
              "      <td>16197</td>\n",
              "      <td>17.1</td>\n",
              "      <td>0.392646</td>\n",
              "    </tr>\n",
              "  </tbody>\n",
              "</table>\n",
              "</div>"
            ],
            "text/plain": [
              "            Democrat  Republican  Dem_Adv      N  Unknown  SE_percentage\n",
              "State                                                                   \n",
              "Alabama         36.0        49.6    -13.6   3197     14.4       0.848926\n",
              "Alaska          35.9        44.3     -8.4    402     19.8       2.392562\n",
              "Arizona         39.8        47.3     -7.5   4325     12.9       0.744298\n",
              "Arkansas        41.5        40.8      0.7   2071     17.7       1.082709\n",
              "California      48.3        34.6     13.7  16197     17.1       0.392646"
            ]
          },
          "metadata": {
            "tags": []
          },
          "execution_count": 49
        }
      ]
    },
    {
      "cell_type": "markdown",
      "metadata": {
        "id": "qoMeDTQjfy_D",
        "colab_type": "text"
      },
      "source": [
        "On their [webpage](http://www.gallup.com/poll/156437/heavily-democratic-states-concentrated-east.aspx#2) discussing these data, Gallup notes that the sampling error for the states is between 3 and 6%, with it being 3% for most states. This is more than what we find, so lets go with what Gallup says.\n",
        "\n",
        "We now use Gallup's estimate of 3% to build a Gallup model with some uncertainty. We will, using the CLT, assume that the sampling distribution of the Obama win percentage is a gaussian with mean the democrat percentage and standard error the sampling error of 3\\%. \n",
        "\n",
        "We'll build the model in the function `uncertain_gallup_model`, and return a forecast where the probability of an Obama victory is given by the probability that a sample from the `Dem_Adv` Gaussian is positive.\n",
        "\n",
        "To do this we simply need to find the area under the curve of a Gaussian that is on the positive side of the x-axis.\n",
        "The probability that a sample from a Gaussian with mean $\\mu$ and standard deviation $\\sigma$ exceeds a threhold $z$ can be found using $1$ minus the Cumulative Distribution Function, or the survival function of a Gaussian:\n",
        "\n",
        "$$ SF(z) = 1 - CDF(z) $$\n",
        "\n",
        "$$\n",
        "1 - CDF(z) = \\frac1{2}\\left(1 + {\\mathrm erf}\\left(\\frac{z - \\mu}{\\sqrt{2 \\sigma^2}}\\right)\\right) \n",
        "$$"
      ]
    },
    {
      "cell_type": "code",
      "metadata": {
        "id": "ZKQ_dmqxfy_E",
        "colab_type": "code",
        "colab": {}
      },
      "source": [
        "#from scipy.special import erf\n",
        "def uncertain_gallup_model(gallup):\n",
        "    sigma = 3\n",
        "    #prob =  .5 * (1 + erf(gallup.Dem_Adv / np.sqrt(2 * sigma**2)))\n",
        "    prob = norm.sf(0, gallup.Dem_Adv, sigma)\n",
        "    return pd.DataFrame(dict(Obama=prob), index=gallup.index)"
      ],
      "execution_count": 0,
      "outputs": []
    },
    {
      "cell_type": "markdown",
      "metadata": {
        "id": "zdf_AAbIfy_H",
        "colab_type": "text"
      },
      "source": [
        "We now have two dataframes with state names as an index. Lets **join** these to produce a wider one with all the data we have. This is identical to a SQL inner join."
      ]
    },
    {
      "cell_type": "code",
      "metadata": {
        "id": "-2vrLeumfy_I",
        "colab_type": "code",
        "colab": {}
      },
      "source": [
        "model = uncertain_gallup_model(gallup_2012)\n",
        "model = model.join(electoral_votes)"
      ],
      "execution_count": 0,
      "outputs": []
    },
    {
      "cell_type": "code",
      "metadata": {
        "id": "d4uady9nfy_M",
        "colab_type": "code",
        "colab": {
          "base_uri": "https://localhost:8080/",
          "height": 223
        },
        "outputId": "89bd4585-b9a9-4997-9cf5-f295d8b8b7e6"
      },
      "source": [
        "model.head()"
      ],
      "execution_count": 53,
      "outputs": [
        {
          "output_type": "execute_result",
          "data": {
            "text/html": [
              "<div>\n",
              "<style scoped>\n",
              "    .dataframe tbody tr th:only-of-type {\n",
              "        vertical-align: middle;\n",
              "    }\n",
              "\n",
              "    .dataframe tbody tr th {\n",
              "        vertical-align: top;\n",
              "    }\n",
              "\n",
              "    .dataframe thead th {\n",
              "        text-align: right;\n",
              "    }\n",
              "</style>\n",
              "<table border=\"1\" class=\"dataframe\">\n",
              "  <thead>\n",
              "    <tr style=\"text-align: right;\">\n",
              "      <th></th>\n",
              "      <th>Obama</th>\n",
              "      <th>Votes</th>\n",
              "    </tr>\n",
              "    <tr>\n",
              "      <th>State</th>\n",
              "      <th></th>\n",
              "      <th></th>\n",
              "    </tr>\n",
              "  </thead>\n",
              "  <tbody>\n",
              "    <tr>\n",
              "      <th>Alabama</th>\n",
              "      <td>0.000003</td>\n",
              "      <td>9</td>\n",
              "    </tr>\n",
              "    <tr>\n",
              "      <th>Alaska</th>\n",
              "      <td>0.002555</td>\n",
              "      <td>3</td>\n",
              "    </tr>\n",
              "    <tr>\n",
              "      <th>Arizona</th>\n",
              "      <td>0.006210</td>\n",
              "      <td>11</td>\n",
              "    </tr>\n",
              "    <tr>\n",
              "      <th>Arkansas</th>\n",
              "      <td>0.592249</td>\n",
              "      <td>6</td>\n",
              "    </tr>\n",
              "    <tr>\n",
              "      <th>California</th>\n",
              "      <td>0.999998</td>\n",
              "      <td>55</td>\n",
              "    </tr>\n",
              "  </tbody>\n",
              "</table>\n",
              "</div>"
            ],
            "text/plain": [
              "               Obama  Votes\n",
              "State                      \n",
              "Alabama     0.000003      9\n",
              "Alaska      0.002555      3\n",
              "Arizona     0.006210     11\n",
              "Arkansas    0.592249      6\n",
              "California  0.999998     55"
            ]
          },
          "metadata": {
            "tags": []
          },
          "execution_count": 53
        }
      ]
    },
    {
      "cell_type": "markdown",
      "metadata": {
        "id": "FmqZbD2pfy_R",
        "colab_type": "text"
      },
      "source": [
        "You can make simple plots very easily with pandas:"
      ]
    },
    {
      "cell_type": "code",
      "metadata": {
        "id": "sZaNALRcfy_S",
        "colab_type": "code",
        "colab": {
          "base_uri": "https://localhost:8080/",
          "height": 269
        },
        "outputId": "b4fc2b14-ca00-494c-c16f-bba9c5e9bb09"
      },
      "source": [
        "model.Votes.hist(bins=15);"
      ],
      "execution_count": 54,
      "outputs": [
        {
          "output_type": "display_data",
          "data": {
            "image/png": "[encoded data removed]",
            "text/plain": [
              "<Figure size 432x288 with 1 Axes>"
            ]
          },
          "metadata": {
            "tags": []
          }
        }
      ]
    },
    {
      "cell_type": "code",
      "metadata": {
        "id": "rPBetShqfy_U",
        "colab_type": "code",
        "colab": {
          "base_uri": "https://localhost:8080/",
          "height": 1000
        },
        "outputId": "5c31381c-6f03-4385-daed-cb3e48a6e496"
      },
      "source": [
        "plt.figure(figsize=(9, 18))\n",
        "gallup_2012.sort_values('Dem_Adv')['Dem_Adv'].plot(kind=\"barh\", color=\"r\");"
      ],
      "execution_count": 55,
      "outputs": [
        {
          "output_type": "display_data",
          "data": {
            "image/png": "[encoded data removed]",
            "text/plain": [
              "<Figure size 648x1296 with 1 Axes>"
            ]
          },
          "metadata": {
            "tags": []
          }
        }
      ]
    },
    {
      "cell_type": "markdown",
      "metadata": {
        "id": "NsyJop92fy_X",
        "colab_type": "text"
      },
      "source": [
        "What exactly is in a Pandas Series? Lets see:"
      ]
    },
    {
      "cell_type": "code",
      "metadata": {
        "id": "y1UjAWhMfy_X",
        "colab_type": "code",
        "colab": {
          "base_uri": "https://localhost:8080/",
          "height": 959
        },
        "outputId": "b03b4f5e-7be7-49f5-c91e-68f4c9030357"
      },
      "source": [
        "votes_series = model.Votes\n",
        "votes_series"
      ],
      "execution_count": 57,
      "outputs": [
        {
          "output_type": "execute_result",
          "data": {
            "text/plain": [
              "State\n",
              "Alabama                  9\n",
              "Alaska                   3\n",
              "Arizona                 11\n",
              "Arkansas                 6\n",
              "California              55\n",
              "Colorado                 9\n",
              "Connecticut              7\n",
              "Delaware                 3\n",
              "District of Columbia     3\n",
              "Florida                 29\n",
              "Georgia                 16\n",
              "Hawaii                   4\n",
              "Idaho                    4\n",
              "Illinois                20\n",
              "Indiana                 11\n",
              "Iowa                     6\n",
              "Kansas                   6\n",
              "Kentucky                 8\n",
              "Louisiana                8\n",
              "Maine                    4\n",
              "Maryland                10\n",
              "Massachusetts           11\n",
              "Michigan                16\n",
              "Minnesota               10\n",
              "Mississippi              6\n",
              "Missouri                10\n",
              "Montana                  3\n",
              "Nebraska                 5\n",
              "Nevada                   6\n",
              "New Hampshire            4\n",
              "New Jersey              14\n",
              "New Mexico               5\n",
              "New York                29\n",
              "North Carolina          15\n",
              "North Dakota             3\n",
              "Ohio                    18\n",
              "Oklahoma                 7\n",
              "Oregon                   7\n",
              "Pennsylvania            20\n",
              "Rhode Island             4\n",
              "South Carolina           9\n",
              "South Dakota             3\n",
              "Tennessee               11\n",
              "Texas                   38\n",
              "Utah                     6\n",
              "Vermont                  3\n",
              "Virginia                13\n",
              "Washington              12\n",
              "West Virginia            5\n",
              "Wisconsin               10\n",
              "Wyoming                  3\n",
              "Name: Votes, dtype: int64"
            ]
          },
          "metadata": {
            "tags": []
          },
          "execution_count": 57
        }
      ]
    },
    {
      "cell_type": "code",
      "metadata": {
        "id": "-jHZCE_-fy_Z",
        "colab_type": "code",
        "colab": {
          "base_uri": "https://localhost:8080/",
          "height": 35
        },
        "outputId": "a47e6aeb-9c88-4ec7-b831-67b2585b6a50"
      },
      "source": [
        "type(votes_series)"
      ],
      "execution_count": 58,
      "outputs": [
        {
          "output_type": "execute_result",
          "data": {
            "text/plain": [
              "pandas.core.series.Series"
            ]
          },
          "metadata": {
            "tags": []
          },
          "execution_count": 58
        }
      ]
    },
    {
      "cell_type": "markdown",
      "metadata": {
        "id": "DhGCDL7ify_b",
        "colab_type": "text"
      },
      "source": [
        "We might want to get back to numpy:"
      ]
    },
    {
      "cell_type": "code",
      "metadata": {
        "id": "3weqt_Nffy_c",
        "colab_type": "code",
        "colab": {
          "base_uri": "https://localhost:8080/",
          "height": 70
        },
        "outputId": "e81ccb76-0daf-4c9e-9aa1-ed4935794dad"
      },
      "source": [
        "votes_series.values"
      ],
      "execution_count": 59,
      "outputs": [
        {
          "output_type": "execute_result",
          "data": {
            "text/plain": [
              "array([ 9,  3, 11,  6, 55,  9,  7,  3,  3, 29, 16,  4,  4, 20, 11,  6,  6,\n",
              "        8,  8,  4, 10, 11, 16, 10,  6, 10,  3,  5,  6,  4, 14,  5, 29, 15,\n",
              "        3, 18,  7,  7, 20,  4,  9,  3, 11, 38,  6,  3, 13, 12,  5, 10,  3])"
            ]
          },
          "metadata": {
            "tags": []
          },
          "execution_count": 59
        }
      ]
    },
    {
      "cell_type": "code",
      "metadata": {
        "id": "B5tHWeGMfy_e",
        "colab_type": "code",
        "colab": {
          "base_uri": "https://localhost:8080/",
          "height": 924
        },
        "outputId": "ce442e41-701a-4fcd-9d94-0730413a62b5"
      },
      "source": [
        "model[['Obama', 'Votes']].values # get 2d"
      ],
      "execution_count": 60,
      "outputs": [
        {
          "output_type": "execute_result",
          "data": {
            "text/plain": [
              "array([[2.90300406e-06, 9.00000000e+00],\n",
              "       [2.55513033e-03, 3.00000000e+00],\n",
              "       [6.20966533e-03, 1.10000000e+01],\n",
              "       [5.92248712e-01, 6.00000000e+00],\n",
              "       [9.99997522e-01, 5.50000000e+01],\n",
              "       [4.15182197e-02, 9.00000000e+00],\n",
              "       [9.99999858e-01, 7.00000000e+00],\n",
              "       [9.99999997e-01, 3.00000000e+00],\n",
              "       [1.00000000e+00, 3.00000000e+00],\n",
              "       [5.92248712e-01, 2.90000000e+01],\n",
              "       [9.12112197e-02, 1.60000000e+01],\n",
              "       [1.00000000e+00, 4.00000000e+00],\n",
              "       [2.76210947e-24, 4.00000000e+00],\n",
              "       [9.99986654e-01, 2.00000000e+01],\n",
              "       [1.27634855e-02, 1.10000000e+01],\n",
              "       [7.25746882e-01, 6.00000000e+00],\n",
              "       [8.83796687e-09, 6.00000000e+00],\n",
              "       [5.53035117e-01, 8.00000000e+00],\n",
              "       [5.47992917e-02, 8.00000000e+00],\n",
              "       [9.28766623e-01, 4.00000000e+00],\n",
              "       [1.00000000e+00, 1.00000000e+01],\n",
              "       [1.00000000e+00, 1.10000000e+01],\n",
              "       [9.99892200e-01, 1.60000000e+01],\n",
              "       [9.99663071e-01, 1.00000000e+01],\n",
              "       [9.81532863e-03, 6.00000000e+00],\n",
              "       [9.68004846e-02, 1.00000000e+01],\n",
              "       [2.47770531e-06, 3.00000000e+00],\n",
              "       [1.19960226e-10, 5.00000000e+00],\n",
              "       [8.07566592e-02, 6.00000000e+00],\n",
              "       [3.08537539e-01, 4.00000000e+00],\n",
              "       [9.99936791e-01, 1.40000000e+01],\n",
              "       [8.84930330e-01, 5.00000000e+00],\n",
              "       [1.00000000e+00, 2.90000000e+01],\n",
              "       [5.26576464e-01, 1.50000000e+01],\n",
              "       [5.41254391e-06, 3.00000000e+00],\n",
              "       [8.84930330e-01, 1.80000000e+01],\n",
              "       [8.64165209e-04, 7.00000000e+00],\n",
              "       [9.96533026e-01, 7.00000000e+00],\n",
              "       [9.58481780e-01, 2.00000000e+01],\n",
              "       [1.00000000e+00, 4.00000000e+00],\n",
              "       [3.64424071e-05, 9.00000000e+00],\n",
              "       [2.27501319e-02, 3.00000000e+00],\n",
              "       [2.55513033e-03, 1.10000000e+01],\n",
              "       [2.65975740e-02, 3.80000000e+01],\n",
              "       [1.64628831e-39, 6.00000000e+00],\n",
              "       [9.99998201e-01, 3.00000000e+00],\n",
              "       [1.58655254e-01, 1.30000000e+01],\n",
              "       [9.99455891e-01, 1.20000000e+01],\n",
              "       [8.71462851e-01, 5.00000000e+00],\n",
              "       [8.24676055e-01, 1.00000000e+01],\n",
              "       [1.06633208e-23, 3.00000000e+00]])"
            ]
          },
          "metadata": {
            "tags": []
          },
          "execution_count": 60
        }
      ]
    },
    {
      "cell_type": "markdown",
      "metadata": {
        "id": "e65Bno8Tfy_f",
        "colab_type": "text"
      },
      "source": [
        "## Simulate!\n",
        "\n",
        "We plot a map of these probabilities as before, run the simulation, and display the results"
      ]
    },
    {
      "cell_type": "code",
      "metadata": {
        "id": "7_Knshq_fy_g",
        "colab_type": "code",
        "colab": {
          "base_uri": "https://localhost:8080/",
          "height": 35
        },
        "outputId": "97ffa71a-f37c-400e-b31c-949d1baf88b5"
      },
      "source": [
        "prediction = simulate_election(model, 10000)\n",
        "prediction"
      ],
      "execution_count": 61,
      "outputs": [
        {
          "output_type": "execute_result",
          "data": {
            "text/plain": [
              "array([316, 280, 276, ..., 320, 310, 329])"
            ]
          },
          "metadata": {
            "tags": []
          },
          "execution_count": 61
        }
      ]
    },
    {
      "cell_type": "code",
      "metadata": {
        "id": "J4DkILbHfy_i",
        "colab_type": "code",
        "colab": {
          "base_uri": "https://localhost:8080/",
          "height": 527
        },
        "outputId": "054cec08-383f-48c4-87a9-0bc8fe54f8cd"
      },
      "source": [
        "from statesplot import make_map, load_states_geom\n",
        "s2p = load_states_geom(\"data/us-states.json\")\n",
        "make_map(s2p, model.Obama, \"P(Obama): Gallup\");"
      ],
      "execution_count": 62,
      "outputs": [
        {
          "output_type": "display_data",
          "data": {
            "image/png": "[encoded data removed]",
            "text/plain": [
              "<Figure size 864x648 with 2 Axes>"
            ]
          },
          "metadata": {
            "tags": []
          }
        }
      ]
    },
    {
      "cell_type": "code",
      "metadata": {
        "id": "YjDk9Zz4fy_l",
        "colab_type": "code",
        "colab": {}
      },
      "source": [
        "def plot_simulation(simulation):    \n",
        "    plt.hist(simulation, bins=np.arange(200, 538, 1), \n",
        "             label='simulations', align='left', normed=True)\n",
        "    plt.axvline(332, 0, .5, color='r', label='Actual Outcome')\n",
        "    plt.axvline(269, 0, .5, color='k', label='Victory Threshold')\n",
        "    p05 = np.percentile(simulation, 5.)\n",
        "    p95 = np.percentile(simulation, 95.)\n",
        "    iq = int(p95 - p05)\n",
        "    pwin = ((simulation >= 269).mean() * 100)\n",
        "    plt.title(\"Chance of Obama Victory: %0.2f%%, Spread: %d votes\" % (pwin, iq))\n",
        "    plt.legend(frameon=False, loc='upper left')\n",
        "    plt.xlabel(\"Obama Electoral College Votes\")\n",
        "    plt.ylabel(\"Probability\")\n",
        "    sns.despine()"
      ],
      "execution_count": 0,
      "outputs": []
    },
    {
      "cell_type": "code",
      "metadata": {
        "id": "3cxxSf8efy_n",
        "colab_type": "code",
        "colab": {
          "base_uri": "https://localhost:8080/",
          "height": 390
        },
        "outputId": "8395f917-19e8-4301-9922-b6e06f3625be"
      },
      "source": [
        "with sns.plotting_context('poster'):\n",
        "    plot_simulation(prediction)"
      ],
      "execution_count": 64,
      "outputs": [
        {
          "output_type": "stream",
          "text": [
            "/usr/local/lib/python3.6/dist-packages/matplotlib/axes/_axes.py:6521: MatplotlibDeprecationWarning: \n",
            "The 'normed' kwarg was deprecated in Matplotlib 2.1 and will be removed in 3.1. Use 'density' instead.\n",
            "  alternative=\"'density'\", removal=\"3.1\")\n"
          ],
          "name": "stderr"
        },
        {
          "output_type": "display_data",
          "data": {
            "image/png": "[encoded data removed]",
            "text/plain": [
              "<Figure size 432x288 with 1 Axes>"
            ]
          },
          "metadata": {
            "tags": []
          }
        }
      ]
    },
    {
      "cell_type": "markdown",
      "metadata": {
        "id": "3CJhlRswfy_q",
        "colab_type": "text"
      },
      "source": [
        "The predictive distribution is consistent with the real data -- the real outcome seems like a typical outcome according to the model. The accuracy is not very good as the center of the distribution falls fairly far from the observed outcome, but the precision is only marginally worse than in the predictwise case.\n",
        "\n",
        "But note that we used the Gallup voter self-identification from January to June to predict this, so we do not expect to do too well. And even though this is probably not a very unbiased sample, it still makes us wonder: at 97\\% of simulations showing a win for Obama, why did Romney ever think he had a chance?"
      ]
    }
  ]
}